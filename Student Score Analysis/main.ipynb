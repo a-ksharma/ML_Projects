{
 "cells": [
  {
   "cell_type": "code",
   "execution_count": 1,
   "id": "45eece24",
   "metadata": {},
   "outputs": [],
   "source": [
    "import pandas as pd\n",
    "import numpy as np\n",
    "import matplotlib.pyplot as plt"
   ]
  },
  {
   "cell_type": "code",
   "execution_count": 2,
   "id": "27333356",
   "metadata": {},
   "outputs": [],
   "source": [
    "df = pd.read_csv('student_scores.csv')"
   ]
  },
  {
   "cell_type": "code",
   "execution_count": 3,
   "id": "57b877a7",
   "metadata": {},
   "outputs": [
    {
     "data": {
      "text/html": [
       "<div>\n",
       "<style scoped>\n",
       "    .dataframe tbody tr th:only-of-type {\n",
       "        vertical-align: middle;\n",
       "    }\n",
       "\n",
       "    .dataframe tbody tr th {\n",
       "        vertical-align: top;\n",
       "    }\n",
       "\n",
       "    .dataframe thead th {\n",
       "        text-align: right;\n",
       "    }\n",
       "</style>\n",
       "<table border=\"1\" class=\"dataframe\">\n",
       "  <thead>\n",
       "    <tr style=\"text-align: right;\">\n",
       "      <th></th>\n",
       "      <th>Name</th>\n",
       "      <th>Math</th>\n",
       "      <th>Science</th>\n",
       "      <th>English</th>\n",
       "    </tr>\n",
       "  </thead>\n",
       "  <tbody>\n",
       "    <tr>\n",
       "      <th>0</th>\n",
       "      <td>Alice</td>\n",
       "      <td>85</td>\n",
       "      <td>90</td>\n",
       "      <td>78</td>\n",
       "    </tr>\n",
       "    <tr>\n",
       "      <th>1</th>\n",
       "      <td>Bob</td>\n",
       "      <td>92</td>\n",
       "      <td>87</td>\n",
       "      <td>85</td>\n",
       "    </tr>\n",
       "    <tr>\n",
       "      <th>2</th>\n",
       "      <td>Charlie</td>\n",
       "      <td>78</td>\n",
       "      <td>84</td>\n",
       "      <td>80</td>\n",
       "    </tr>\n",
       "    <tr>\n",
       "      <th>3</th>\n",
       "      <td>David</td>\n",
       "      <td>88</td>\n",
       "      <td>91</td>\n",
       "      <td>86</td>\n",
       "    </tr>\n",
       "    <tr>\n",
       "      <th>4</th>\n",
       "      <td>Eva</td>\n",
       "      <td>76</td>\n",
       "      <td>73</td>\n",
       "      <td>82</td>\n",
       "    </tr>\n",
       "  </tbody>\n",
       "</table>\n",
       "</div>"
      ],
      "text/plain": [
       "      Name  Math  Science  English\n",
       "0    Alice    85       90       78\n",
       "1      Bob    92       87       85\n",
       "2  Charlie    78       84       80\n",
       "3    David    88       91       86\n",
       "4      Eva    76       73       82"
      ]
     },
     "execution_count": 3,
     "metadata": {},
     "output_type": "execute_result"
    }
   ],
   "source": [
    "df.head()"
   ]
  },
  {
   "cell_type": "code",
   "execution_count": 21,
   "id": "096b4328",
   "metadata": {},
   "outputs": [
    {
     "name": "stdout",
     "output_type": "stream",
     "text": [
      "For Math\n",
      "Mean is 83.8\n",
      "Median is 85.0\n",
      "Standard Deviation is 6.013318551349164\n",
      "Variance is 36.160000000000004\n",
      "\n",
      "\n",
      "For Science\n",
      "Mean is 85.0\n",
      "Median is 87.0\n",
      "Standard Deviation is 6.48074069840786\n",
      "Variance is 42.0\n",
      "\n",
      "\n",
      "For English\n",
      "Mean is 82.2\n",
      "Median is 82.0\n",
      "Standard Deviation is 2.993325909419153\n",
      "Variance is 8.959999999999999\n",
      "\n",
      "\n"
     ]
    }
   ],
   "source": [
    "subject = ['Math', 'Science', 'English']\n",
    "\n",
    "for sub in subject:\n",
    "    print(f\"For {sub}\")\n",
    "    print(f\"Mean is {np.mean(df[sub])}\")\n",
    "    print(f\"Median is {np.median(df[sub])}\")\n",
    "    print(f\"Standard Deviation is {np.std(df[sub])}\")\n",
    "    print(f\"Variance is {np.var(df[sub])}\")\n",
    "    print(\"\\n\")\n",
    "\n"
   ]
  },
  {
   "cell_type": "code",
   "execution_count": 27,
   "id": "2074af75",
   "metadata": {},
   "outputs": [
    {
     "name": "stdout",
     "output_type": "stream",
     "text": [
      "For Maths\n"
     ]
    },
    {
     "data": {
      "text/plain": [
       "<BarContainer object of 5 artists>"
      ]
     },
     "execution_count": 27,
     "metadata": {},
     "output_type": "execute_result"
    },
    {
     "data": {
      "image/png": "[encoded data removed]",
      "text/plain": [
       "<Figure size 640x480 with 1 Axes>"
      ]
     },
     "metadata": {},
     "output_type": "display_data"
    }
   ],
   "source": [
    "print(\"For Maths\")\n",
    "plt.bar(df['Name'], df['Math'])"
   ]
  },
  {
   "cell_type": "code",
   "execution_count": 28,
   "id": "f9eba7d4",
   "metadata": {},
   "outputs": [
    {
     "name": "stdout",
     "output_type": "stream",
     "text": [
      "For English\n"
     ]
    },
    {
     "data": {
      "text/plain": [
       "<BarContainer object of 5 artists>"
      ]
     },
     "execution_count": 28,
     "metadata": {},
     "output_type": "execute_result"
    },
    {
     "data": {
      "image/png": "[encoded data removed]",
      "text/plain": [
       "<Figure size 640x480 with 1 Axes>"
      ]
     },
     "metadata": {},
     "output_type": "display_data"
    }
   ],
   "source": [
    "print(\"For English\")\n",
    "plt.barh(df['Name'], df['English'])"
   ]
  },
  {
   "cell_type": "code",
   "execution_count": 29,
   "id": "970781fd",
   "metadata": {},
   "outputs": [
    {
     "name": "stdout",
     "output_type": "stream",
     "text": [
      "For Science\n"
     ]
    },
    {
     "data": {
      "text/plain": [
       "([<matplotlib.patches.Wedge at 0x157193d8830>,\n",
       "  <matplotlib.patches.Wedge at 0x157194d0190>,\n",
       "  <matplotlib.patches.Wedge at 0x157194d0410>,\n",
       "  <matplotlib.patches.Wedge at 0x157194d0690>,\n",
       "  <matplotlib.patches.Wedge at 0x157194d0910>],\n",
       " [Text(0.865419397840044, 0.6790060867489892, 'Alice'),\n",
       "  Text(-0.43125918458648743, 1.011936517628353, 'Bob'),\n",
       "  Text(-1.094925001564335, -0.1055426025325373, 'Charlie'),\n",
       "  Text(-0.19812685966956806, -1.0820100496194458, 'David'),\n",
       "  Text(0.9436974972964659, -0.565185839876042, 'Eva')])"
      ]
     },
     "execution_count": 29,
     "metadata": {},
     "output_type": "execute_result"
    },
    {
     "data": {
      "image/png": "[encoded data removed]",
      "text/plain": [
       "<Figure size 640x480 with 1 Axes>"
      ]
     },
     "metadata": {},
     "output_type": "display_data"
    }
   ],
   "source": [
    "print(\"For Science\")\n",
    "plt.pie(df['Science'], labels = df['Name'])"
   ]
  }
 ],
 "metadata": {
  "kernelspec": {
   "display_name": "Python 3",
   "language": "python",
   "name": "python3"
  },
  "language_info": {
   "codemirror_mode": {
    "name": "ipython",
    "version": 3
   },
   "file_extension": ".py",
   "mimetype": "text/x-python",
   "name": "python",
   "nbconvert_exporter": "python",
   "pygments_lexer": "ipython3",
   "version": "3.13.1"
  }
 },
 "nbformat": 4,
 "nbformat_minor": 5
}
